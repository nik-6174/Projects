{
 "cells": [
  {
   "cell_type": "code",
   "execution_count": null,
   "metadata": {},
   "outputs": [],
   "source": [
    "import os\n",
    "import pandas as pd\n",
    "from PIL import Image\n",
    "import numpy as np\n",
    "import matplotlib.pyplot as plt"
   ]
  },
  {
   "cell_type": "code",
   "execution_count": null,
   "metadata": {},
   "outputs": [],
   "source": [
    "DATA_DIR = 'oral cancer.v3i.tensorflow'\n",
    "TEST_DIR = os.path.join(DATA_DIR, 'test')\n",
    "TRAIN_DIR = os.path.join(DATA_DIR, 'train')\n",
    "VALID_DIR = os.path.join(DATA_DIR, 'valid')"
   ]
  },
  {
   "cell_type": "code",
   "execution_count": null,
   "metadata": {},
   "outputs": [],
   "source": [
    "test_annotations = pd.read_csv(os.path.join(TEST_DIR, '_annotations.csv'))\n",
    "train_annotations = pd.read_csv(os.path.join(TRAIN_DIR, '_annotations.csv'))\n",
    "valid_annotations = pd.read_csv(os.path.join(VALID_DIR, '_annotations.csv'))"
   ]
  },
  {
   "cell_type": "code",
   "execution_count": null,
   "metadata": {},
   "outputs": [],
   "source": [
    "test_annotations.info()"
   ]
  },
  {
   "cell_type": "code",
   "execution_count": null,
   "metadata": {},
   "outputs": [],
   "source": [
    "def filter_annotations(annotations, img_dir):\n",
    "    \"\"\"\n",
    "    Filters the annotations to include only images present in the specified directory.\n",
    "    \n",
    "    Args:\n",
    "        annotations (pandas.DataFrame): The annotations DataFrame.\n",
    "        img_dir (str): The directory path containing the images.\n",
    "        \n",
    "    Returns:\n",
    "        pandas.DataFrame: The filtered annotations DataFrame.\n",
    "    \"\"\"\n",
    "    image_files = [f for f in os.listdir(img_dir)]\n",
    "    annotations = annotations[annotations['filename'].isin(image_files)]\n",
    "    annotations = annotations.drop_duplicates(subset=['filename'])\n",
    "    return annotations\n",
    "\n",
    "test_annotations = filter_annotations(test_annotations, os.path.join(TEST_DIR))\n",
    "train_annotations = filter_annotations(train_annotations, os.path.join(TRAIN_DIR))\n",
    "valid_annotations = filter_annotations(valid_annotations, os.path.join(VALID_DIR))"
   ]
  },
  {
   "cell_type": "code",
   "execution_count": null,
   "metadata": {},
   "outputs": [],
   "source": [
    "print(len(test_annotations))\n",
    "print(len(train_annotations))\n",
    "print(len(valid_annotations))"
   ]
  },
  {
   "cell_type": "code",
   "execution_count": null,
   "metadata": {},
   "outputs": [],
   "source": [
    "def separate_images(annotations):\n",
    "    \"\"\"\n",
    "    Separates the images into cancerous and non-cancerous groups based on the annotations.\n",
    "\n",
    "    Args:\n",
    "        annotations (pandas.DataFrame): The annotations DataFrame.\n",
    "\n",
    "    Returns:\n",
    "        tuple: A tuple containing two lists:\n",
    "            cancerous (list): A list of cancerous image paths.\n",
    "            non_cancerous (list): A list of non-cancerous image paths.\n",
    "    \"\"\"\n",
    "    cancerous = []\n",
    "    non_cancerous = []\n",
    "\n",
    "    for _, row in annotations.iterrows():\n",
    "        image_path = os.path.join(row['filename'])\n",
    "        if row['class'] == \"cancer\":  # Cancerous\n",
    "            cancerous.append(image_path)\n",
    "        elif row[\"class\"] == \"no cancer\":  # Non-cancerous\n",
    "            non_cancerous.append(image_path)\n",
    "\n",
    "    return cancerous, non_cancerous\n",
    "\n",
    "test_cancerous, test_non_cancerous = separate_images(test_annotations)\n",
    "train_cancerous, train_non_cancerous = separate_images(train_annotations)\n",
    "valid_cancerous, valid_non_cancerous = separate_images(valid_annotations)"
   ]
  },
  {
   "cell_type": "code",
   "execution_count": null,
   "metadata": {},
   "outputs": [],
   "source": [
    "print(len(test_cancerous), len(test_non_cancerous))\n",
    "print(len(train_cancerous), len(train_non_cancerous))\n",
    "print(len(valid_cancerous), len(valid_non_cancerous))"
   ]
  },
  {
   "cell_type": "code",
   "execution_count": null,
   "metadata": {},
   "outputs": [],
   "source": [
    "print(test_cancerous[:5])"
   ]
  },
  {
   "cell_type": "code",
   "execution_count": null,
   "metadata": {},
   "outputs": [],
   "source": []
  },
  {
   "cell_type": "code",
   "execution_count": null,
   "metadata": {},
   "outputs": [],
   "source": [
    "def load_image(image_path, target_size=None):\n",
    "    \"\"\"\n",
    "    Loads an image from the specified path and optionally resizes it.\n",
    "\n",
    "    Args:\n",
    "        image_path (str): The path to the image file.\n",
    "        target_size (tuple, optional): The target size for resizing the image.\n",
    "\n",
    "    Returns:\n",
    "        numpy.ndarray: The loaded and resized image as a NumPy array.\n",
    "    \"\"\"\n",
    "    image = Image.open(image_path)\n",
    "    if target_size is not None:\n",
    "        image = image.resize(target_size)\n",
    "    return np.array(image)\n",
    "\n",
    "# Load and display sample cancerous and non-cancerous images\n",
    "sample_cancerous = load_image(os.path.join(TEST_DIR,test_cancerous[0]))\n",
    "sample_non_cancerous = load_image(os.path.join(TEST_DIR, test_non_cancerous[0]))\n",
    "\n",
    "fig, axes = plt.subplots(1, 2, figsize=(12, 6))\n",
    "\n",
    "axes[0].imshow(sample_cancerous)\n",
    "axes[0].set_title('Cancerous')\n",
    "axes[0].axis('off')\n",
    "\n",
    "axes[1].imshow(sample_non_cancerous)\n",
    "axes[1].set_title('Non-cancerous')\n",
    "axes[1].axis('off')\n",
    "\n",
    "plt.show()"
   ]
  },
  {
   "cell_type": "code",
   "execution_count": null,
   "metadata": {},
   "outputs": [],
   "source": [
    "from sklearn.model_selection import train_test_split\n",
    "from sklearn.preprocessing import LabelEncoder\n",
    "\n",
    "# Combine cancerous and non-cancerous image paths\n",
    "X_train = train_cancerous + train_non_cancerous\n",
    "y_train = [\"cancer\"] * len(train_cancerous) + [\"no cancer\"] * len(train_non_cancerous)\n",
    "\n",
    "X_valid = valid_cancerous + valid_non_cancerous\n",
    "y_valid = [\"cancer\"] * len(valid_cancerous) + [\"no cancer\"] * len(valid_non_cancerous)\n",
    "\n",
    "# Encode labels\n",
    "label_encoder = LabelEncoder()\n",
    "y_train = label_encoder.fit_transform(y_train)\n",
    "y_valid = label_encoder.transform(y_valid)\n",
    "\n",
    "# Split training data into train and validation sets\n",
    "X_train, X_val, y_train, y_val = train_test_split(X_train, y_train, test_size=0.2, random_state=42)"
   ]
  },
  {
   "cell_type": "code",
   "execution_count": null,
   "metadata": {},
   "outputs": [],
   "source": [
    "from tensorflow.keras.preprocessing.image import ImageDataGenerator\n",
    "\n",
    "# Data generators for data augmentation and preprocessing\n",
    "train_datagen = ImageDataGenerator(\n",
    "    rescale=1./255,\n",
    "    shear_range=0.2,\n",
    "    zoom_range=0.2,\n",
    "    horizontal_flip=True\n",
    ")\n",
    "\n",
    "valid_datagen = ImageDataGenerator(rescale=1./255)\n",
    "\n",
    "# Create data generators\n",
    "train_generator = train_datagen.flow_from_dataframe(\n",
    "    dataframe=train_annotations,\n",
    "    directory=os.path.join(TRAIN_DIR, ''),\n",
    "    x_col='filename',\n",
    "    y_col='class',\n",
    "    target_size=(224, 224),\n",
    "    batch_size=32,\n",
    "    class_mode='binary'\n",
    ")\n",
    "\n",
    "valid_generator = valid_datagen.flow_from_dataframe(\n",
    "    dataframe=valid_annotations,\n",
    "    directory=os.path.join(VALID_DIR, ''),\n",
    "    x_col='filename',\n",
    "    y_col='class',\n",
    "    target_size=(224, 224),\n",
    "    batch_size=32,\n",
    "    class_mode='binary'\n",
    ")"
   ]
  },
  {
   "cell_type": "code",
   "execution_count": null,
   "metadata": {},
   "outputs": [],
   "source": [
    "from tensorflow.keras.models import Sequential\n",
    "from tensorflow.keras.layers import Conv2D, MaxPooling2D, Flatten, Dense, Dropout\n",
    "\n",
    "# Define the CNN model\n",
    "model = Sequential([\n",
    "    Conv2D(32, (3, 3), activation='relu', input_shape=(224, 224, 3)),\n",
    "    MaxPooling2D((2, 2)),\n",
    "    Conv2D(64, (3, 3), activation='relu'),\n",
    "    MaxPooling2D((2, 2)),\n",
    "    Conv2D(128, (3, 3), activation='relu'),\n",
    "    MaxPooling2D((2, 2)),\n",
    "    Flatten(),\n",
    "    Dense(128, activation='relu'),\n",
    "    Dropout(0.5),\n",
    "    Dense(1, activation='sigmoid')\n",
    "])\n",
    "\n",
    "# Compile the model\n",
    "model.compile(\n",
    "    optimizer='adam',\n",
    "    loss='binary_crossentropy',\n",
    "    metrics=['accuracy']\n",
    ")\n",
    "\n",
    "# Train the model\n",
    "epochs = 20\n",
    "history = model.fit(\n",
    "    train_generator,\n",
    "    steps_per_epoch=len(train_generator),\n",
    "    validation_data=valid_generator,\n",
    "    validation_steps=len(valid_generator),\n",
    "    epochs=epochs\n",
    ")"
   ]
  },
  {
   "cell_type": "code",
   "execution_count": null,
   "metadata": {},
   "outputs": [],
   "source": [
    "# Evaluate the model on the validation set\n",
    "loss, accuracy = model.evaluate(valid_generator)\n",
    "print(f\"Validation Loss: {loss:.4f}\")\n",
    "print(f\"Validation Accuracy: {accuracy:.4f}\")"
   ]
  },
  {
   "cell_type": "code",
   "execution_count": null,
   "metadata": {},
   "outputs": [],
   "source": [
    "# Load and preprocess test images\n",
    "test_datagen = ImageDataGenerator(rescale=1./255)\n",
    "test_generator = test_datagen.flow_from_dataframe(\n",
    "    dataframe=test_annotations,\n",
    "    directory=os.path.join(TEST_DIR, ''),\n",
    "    x_col='filename',\n",
    "    y_col='class',\n",
    "    target_size=(224, 224),\n",
    "    batch_size=32,\n",
    "    class_mode='binary',\n",
    "    shuffle=False\n",
    ")\n",
    "\n",
    "# Make predictions on the test set\n",
    "test_predictions = model.predict(test_generator)"
   ]
  },
  {
   "cell_type": "code",
   "execution_count": null,
   "metadata": {},
   "outputs": [],
   "source": [
    "gpus = tf.config.experimental.list_physical_devices('GPU')\n",
    "if gpus:\n",
    "    try:\n",
    "        tf.config.experimental.set_virtual_device_configuration(\n",
    "            gpus[0],\n",
    "            [tf.config.experimental.VirtualDeviceConfiguration(memory_limit=4096)])\n",
    "    except RuntimeError as e:\n",
    "        print(e)"
   ]
  },
  {
   "cell_type": "code",
   "execution_count": null,
   "metadata": {},
   "outputs": [],
   "source": [
    "import tensorflow as tf\n",
    "tf.compat.v1.disable_eager_execution()"
   ]
  },
  {
   "cell_type": "code",
   "execution_count": null,
   "metadata": {},
   "outputs": [],
   "source": [
    "from sklearn.metrics import accuracy_score, precision_score, recall_score, f1_score\n",
    "\n",
    "# Load the best model\n",
    "best_model = tf.keras.models.load_model('best_model.keras')\n",
    "\n",
    "# Evaluate on the test set\n",
    "y_pred = (best_model.predict(np.array(X_test)) > 0.5).astype(int).ravel()\n",
    "accuracy = accuracy_score(y_test, y_pred)\n",
    "precision = precision_score(y_test, y_pred)\n",
    "recall = recall_score(y_test, y_pred)\n",
    "f1 = f1_score(y_test, y_pred)\n",
    "\n",
    "print(f\"Accuracy: {accuracy*100:.2f}%\")\n",
    "print(f\"Precision: {precision*100:.2f}%\")\n",
    "print(f\"Recall: {recall*100:.2f}%\")\n",
    "print(f\"F1-score: {f1*100:.2f}%\")"
   ]
  },
  {
   "cell_type": "code",
   "execution_count": null,
   "metadata": {},
   "outputs": [],
   "source": []
  }
 ],
 "metadata": {
  "kernelspec": {
   "display_name": "Python 3",
   "language": "python",
   "name": "python3"
  },
  "language_info": {
   "codemirror_mode": {
    "name": "ipython",
    "version": 3
   },
   "file_extension": ".py",
   "mimetype": "text/x-python",
   "name": "python",
   "nbconvert_exporter": "python",
   "pygments_lexer": "ipython3",
   "version": "3.10.11"
  }
 },
 "nbformat": 4,
 "nbformat_minor": 2
}
