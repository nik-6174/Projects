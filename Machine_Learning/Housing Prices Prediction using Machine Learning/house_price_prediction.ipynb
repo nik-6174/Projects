{
 "cells": [
  {
   "cell_type": "code",
   "execution_count": 4,
   "id": "4a895320",
   "metadata": {
    "execution": {
     "iopub.execute_input": "2024-04-28T17:48:18.783621Z",
     "iopub.status.busy": "2024-04-28T17:48:18.783127Z",
     "iopub.status.idle": "2024-04-28T17:48:19.796963Z",
     "shell.execute_reply": "2024-04-28T17:48:19.795686Z"
    },
    "papermill": {
     "duration": 1.031517,
     "end_time": "2024-04-28T17:48:19.799530",
     "exception": false,
     "start_time": "2024-04-28T17:48:18.768013",
     "status": "completed"
    },
    "tags": []
   },
   "outputs": [],
   "source": [
    "# Set up code checking\n",
    "import os\n",
    "import pandas as pd\n",
    "from sklearn.model_selection import train_test_split"
   ]
  },
  {
   "cell_type": "code",
   "execution_count": 5,
   "id": "b19959cc",
   "metadata": {
    "execution": {
     "iopub.execute_input": "2024-04-28T17:48:19.856676Z",
     "iopub.status.busy": "2024-04-28T17:48:19.855172Z",
     "iopub.status.idle": "2024-04-28T17:48:21.403219Z",
     "shell.execute_reply": "2024-04-28T17:48:21.402220Z"
    },
    "papermill": {
     "duration": 1.565697,
     "end_time": "2024-04-28T17:48:21.406009",
     "exception": false,
     "start_time": "2024-04-28T17:48:19.840312",
     "status": "completed"
    },
    "tags": []
   },
   "outputs": [],
   "source": [
    "# Read the data\n",
    "X = pd.read_csv(os.path.join('data', \"train.csv\"), index_col='Id') \n",
    "X_test = pd.read_csv(os.path.join('data', \"test.csv\"), index_col='Id')\n",
    "\n",
    "# Remove rows with missing target, separate target from predictors\n",
    "X.dropna(axis=0, subset=['SalePrice'], inplace=True)\n",
    "y = X.SalePrice\n",
    "X.drop(['SalePrice'], axis=1, inplace=True)\n",
    "\n",
    "# To keep things simple, we'll drop columns with missing values\n",
    "cols_with_missing = [col for col in X.columns if X[col].isnull().any()] \n",
    "X.drop(cols_with_missing, axis=1, inplace=True)\n",
    "X_test.drop(cols_with_missing, axis=1, inplace=True)\n",
    "\n",
    "# Break off validation set from training data\n",
    "X_train, X_valid, y_train, y_valid = train_test_split(X, y,\n",
    "                                                      train_size=0.8, test_size=0.2,\n",
    "                                                      random_state=0)"
   ]
  },
  {
   "cell_type": "code",
   "execution_count": 6,
   "id": "ac3dea3c",
   "metadata": {
    "execution": {
     "iopub.execute_input": "2024-04-28T17:48:21.461555Z",
     "iopub.status.busy": "2024-04-28T17:48:21.461143Z",
     "iopub.status.idle": "2024-04-28T17:48:21.489280Z",
     "shell.execute_reply": "2024-04-28T17:48:21.488105Z"
    },
    "papermill": {
     "duration": 0.045328,
     "end_time": "2024-04-28T17:48:21.491754",
     "exception": false,
     "start_time": "2024-04-28T17:48:21.446426",
     "status": "completed"
    },
    "tags": []
   },
   "outputs": [
    {
     "data": {
      "text/html": [
       "<div>\n",
       "<style scoped>\n",
       "    .dataframe tbody tr th:only-of-type {\n",
       "        vertical-align: middle;\n",
       "    }\n",
       "\n",
       "    .dataframe tbody tr th {\n",
       "        vertical-align: top;\n",
       "    }\n",
       "\n",
       "    .dataframe thead th {\n",
       "        text-align: right;\n",
       "    }\n",
       "</style>\n",
       "<table border=\"1\" class=\"dataframe\">\n",
       "  <thead>\n",
       "    <tr style=\"text-align: right;\">\n",
       "      <th></th>\n",
       "      <th>MSSubClass</th>\n",
       "      <th>MSZoning</th>\n",
       "      <th>LotArea</th>\n",
       "      <th>Street</th>\n",
       "      <th>LotShape</th>\n",
       "      <th>LandContour</th>\n",
       "      <th>Utilities</th>\n",
       "      <th>LotConfig</th>\n",
       "      <th>LandSlope</th>\n",
       "      <th>Neighborhood</th>\n",
       "      <th>...</th>\n",
       "      <th>OpenPorchSF</th>\n",
       "      <th>EnclosedPorch</th>\n",
       "      <th>3SsnPorch</th>\n",
       "      <th>ScreenPorch</th>\n",
       "      <th>PoolArea</th>\n",
       "      <th>MiscVal</th>\n",
       "      <th>MoSold</th>\n",
       "      <th>YrSold</th>\n",
       "      <th>SaleType</th>\n",
       "      <th>SaleCondition</th>\n",
       "    </tr>\n",
       "    <tr>\n",
       "      <th>Id</th>\n",
       "      <th></th>\n",
       "      <th></th>\n",
       "      <th></th>\n",
       "      <th></th>\n",
       "      <th></th>\n",
       "      <th></th>\n",
       "      <th></th>\n",
       "      <th></th>\n",
       "      <th></th>\n",
       "      <th></th>\n",
       "      <th></th>\n",
       "      <th></th>\n",
       "      <th></th>\n",
       "      <th></th>\n",
       "      <th></th>\n",
       "      <th></th>\n",
       "      <th></th>\n",
       "      <th></th>\n",
       "      <th></th>\n",
       "      <th></th>\n",
       "      <th></th>\n",
       "    </tr>\n",
       "  </thead>\n",
       "  <tbody>\n",
       "    <tr>\n",
       "      <th>619</th>\n",
       "      <td>20</td>\n",
       "      <td>RL</td>\n",
       "      <td>11694</td>\n",
       "      <td>Pave</td>\n",
       "      <td>Reg</td>\n",
       "      <td>Lvl</td>\n",
       "      <td>AllPub</td>\n",
       "      <td>Inside</td>\n",
       "      <td>Gtl</td>\n",
       "      <td>NridgHt</td>\n",
       "      <td>...</td>\n",
       "      <td>108</td>\n",
       "      <td>0</td>\n",
       "      <td>0</td>\n",
       "      <td>260</td>\n",
       "      <td>0</td>\n",
       "      <td>0</td>\n",
       "      <td>7</td>\n",
       "      <td>2007</td>\n",
       "      <td>New</td>\n",
       "      <td>Partial</td>\n",
       "    </tr>\n",
       "    <tr>\n",
       "      <th>871</th>\n",
       "      <td>20</td>\n",
       "      <td>RL</td>\n",
       "      <td>6600</td>\n",
       "      <td>Pave</td>\n",
       "      <td>Reg</td>\n",
       "      <td>Lvl</td>\n",
       "      <td>AllPub</td>\n",
       "      <td>Inside</td>\n",
       "      <td>Gtl</td>\n",
       "      <td>NAmes</td>\n",
       "      <td>...</td>\n",
       "      <td>0</td>\n",
       "      <td>0</td>\n",
       "      <td>0</td>\n",
       "      <td>0</td>\n",
       "      <td>0</td>\n",
       "      <td>0</td>\n",
       "      <td>8</td>\n",
       "      <td>2009</td>\n",
       "      <td>WD</td>\n",
       "      <td>Normal</td>\n",
       "    </tr>\n",
       "    <tr>\n",
       "      <th>93</th>\n",
       "      <td>30</td>\n",
       "      <td>RL</td>\n",
       "      <td>13360</td>\n",
       "      <td>Pave</td>\n",
       "      <td>IR1</td>\n",
       "      <td>HLS</td>\n",
       "      <td>AllPub</td>\n",
       "      <td>Inside</td>\n",
       "      <td>Gtl</td>\n",
       "      <td>Crawfor</td>\n",
       "      <td>...</td>\n",
       "      <td>0</td>\n",
       "      <td>44</td>\n",
       "      <td>0</td>\n",
       "      <td>0</td>\n",
       "      <td>0</td>\n",
       "      <td>0</td>\n",
       "      <td>8</td>\n",
       "      <td>2009</td>\n",
       "      <td>WD</td>\n",
       "      <td>Normal</td>\n",
       "    </tr>\n",
       "    <tr>\n",
       "      <th>818</th>\n",
       "      <td>20</td>\n",
       "      <td>RL</td>\n",
       "      <td>13265</td>\n",
       "      <td>Pave</td>\n",
       "      <td>IR1</td>\n",
       "      <td>Lvl</td>\n",
       "      <td>AllPub</td>\n",
       "      <td>CulDSac</td>\n",
       "      <td>Gtl</td>\n",
       "      <td>Mitchel</td>\n",
       "      <td>...</td>\n",
       "      <td>59</td>\n",
       "      <td>0</td>\n",
       "      <td>0</td>\n",
       "      <td>0</td>\n",
       "      <td>0</td>\n",
       "      <td>0</td>\n",
       "      <td>7</td>\n",
       "      <td>2008</td>\n",
       "      <td>WD</td>\n",
       "      <td>Normal</td>\n",
       "    </tr>\n",
       "    <tr>\n",
       "      <th>303</th>\n",
       "      <td>20</td>\n",
       "      <td>RL</td>\n",
       "      <td>13704</td>\n",
       "      <td>Pave</td>\n",
       "      <td>IR1</td>\n",
       "      <td>Lvl</td>\n",
       "      <td>AllPub</td>\n",
       "      <td>Corner</td>\n",
       "      <td>Gtl</td>\n",
       "      <td>CollgCr</td>\n",
       "      <td>...</td>\n",
       "      <td>81</td>\n",
       "      <td>0</td>\n",
       "      <td>0</td>\n",
       "      <td>0</td>\n",
       "      <td>0</td>\n",
       "      <td>0</td>\n",
       "      <td>1</td>\n",
       "      <td>2006</td>\n",
       "      <td>WD</td>\n",
       "      <td>Normal</td>\n",
       "    </tr>\n",
       "  </tbody>\n",
       "</table>\n",
       "<p>5 rows × 60 columns</p>\n",
       "</div>"
      ],
      "text/plain": [
       "     MSSubClass MSZoning  LotArea Street LotShape LandContour Utilities  \\\n",
       "Id                                                                        \n",
       "619          20       RL    11694   Pave      Reg         Lvl    AllPub   \n",
       "871          20       RL     6600   Pave      Reg         Lvl    AllPub   \n",
       "93           30       RL    13360   Pave      IR1         HLS    AllPub   \n",
       "818          20       RL    13265   Pave      IR1         Lvl    AllPub   \n",
       "303          20       RL    13704   Pave      IR1         Lvl    AllPub   \n",
       "\n",
       "    LotConfig LandSlope Neighborhood  ... OpenPorchSF EnclosedPorch 3SsnPorch  \\\n",
       "Id                                    ...                                       \n",
       "619    Inside       Gtl      NridgHt  ...         108             0         0   \n",
       "871    Inside       Gtl        NAmes  ...           0             0         0   \n",
       "93     Inside       Gtl      Crawfor  ...           0            44         0   \n",
       "818   CulDSac       Gtl      Mitchel  ...          59             0         0   \n",
       "303    Corner       Gtl      CollgCr  ...          81             0         0   \n",
       "\n",
       "    ScreenPorch  PoolArea  MiscVal  MoSold  YrSold SaleType SaleCondition  \n",
       "Id                                                                         \n",
       "619         260         0        0       7    2007      New       Partial  \n",
       "871           0         0        0       8    2009       WD        Normal  \n",
       "93            0         0        0       8    2009       WD        Normal  \n",
       "818           0         0        0       7    2008       WD        Normal  \n",
       "303           0         0        0       1    2006       WD        Normal  \n",
       "\n",
       "[5 rows x 60 columns]"
      ]
     },
     "execution_count": 6,
     "metadata": {},
     "output_type": "execute_result"
    }
   ],
   "source": [
    "X_train.head()"
   ]
  },
  {
   "cell_type": "code",
   "execution_count": 7,
   "id": "07cf40a1",
   "metadata": {
    "execution": {
     "iopub.execute_input": "2024-04-28T17:48:21.550806Z",
     "iopub.status.busy": "2024-04-28T17:48:21.550379Z",
     "iopub.status.idle": "2024-04-28T17:48:21.907680Z",
     "shell.execute_reply": "2024-04-28T17:48:21.906477Z"
    },
    "papermill": {
     "duration": 0.376936,
     "end_time": "2024-04-28T17:48:21.910652",
     "exception": false,
     "start_time": "2024-04-28T17:48:21.533716",
     "status": "completed"
    },
    "tags": []
   },
   "outputs": [],
   "source": [
    "from sklearn.ensemble import RandomForestRegressor\n",
    "from sklearn.metrics import mean_absolute_error\n",
    "\n",
    "# function for comparing different approaches\n",
    "def score_dataset(X_train, X_valid, y_train, y_valid):\n",
    "    model = RandomForestRegressor(n_estimators=100, random_state=0)\n",
    "    model.fit(X_train, y_train)\n",
    "    preds = model.predict(X_valid)\n",
    "    return mean_absolute_error(y_valid, preds)"
   ]
  },
  {
   "cell_type": "code",
   "execution_count": 8,
   "id": "ea9ac1ba",
   "metadata": {
    "execution": {
     "iopub.execute_input": "2024-04-28T17:48:21.967992Z",
     "iopub.status.busy": "2024-04-28T17:48:21.967025Z",
     "iopub.status.idle": "2024-04-28T17:48:21.978496Z",
     "shell.execute_reply": "2024-04-28T17:48:21.977381Z"
    },
    "papermill": {
     "duration": 0.028956,
     "end_time": "2024-04-28T17:48:21.980926",
     "exception": false,
     "start_time": "2024-04-28T17:48:21.951970",
     "status": "completed"
    },
    "tags": []
   },
   "outputs": [],
   "source": [
    "# Fill in the lines below: drop columns in training and validation data\n",
    "drop_X_train = X_train.select_dtypes(exclude=['object'])\n",
    "drop_X_valid = X_valid.select_dtypes(exclude=['object'])\n"
   ]
  },
  {
   "cell_type": "markdown",
   "id": "238e1527",
   "metadata": {
    "papermill": {
     "duration": 0.014148,
     "end_time": "2024-04-28T17:48:22.052995",
     "exception": false,
     "start_time": "2024-04-28T17:48:22.038847",
     "status": "completed"
    },
    "tags": []
   },
   "source": [
    "Run the next code cell to get the MAE for this approach."
   ]
  },
  {
   "cell_type": "code",
   "execution_count": 9,
   "id": "6e27290f",
   "metadata": {
    "execution": {
     "iopub.execute_input": "2024-04-28T17:48:22.084102Z",
     "iopub.status.busy": "2024-04-28T17:48:22.083677Z",
     "iopub.status.idle": "2024-04-28T17:48:23.424101Z",
     "shell.execute_reply": "2024-04-28T17:48:23.422866Z"
    },
    "papermill": {
     "duration": 1.358816,
     "end_time": "2024-04-28T17:48:23.426723",
     "exception": false,
     "start_time": "2024-04-28T17:48:22.067907",
     "status": "completed"
    },
    "tags": []
   },
   "outputs": [
    {
     "name": "stdout",
     "output_type": "stream",
     "text": [
      "MAE from Approach 1 (Drop categorical variables):\n",
      "17837.82570776256\n"
     ]
    }
   ],
   "source": [
    "print(\"MAE from Approach 1 (Drop categorical variables):\")\n",
    "print(score_dataset(drop_X_train, drop_X_valid, y_train, y_valid))"
   ]
  },
  {
   "cell_type": "code",
   "execution_count": 10,
   "id": "84a33348",
   "metadata": {
    "execution": {
     "iopub.execute_input": "2024-04-28T17:48:23.487708Z",
     "iopub.status.busy": "2024-04-28T17:48:23.487308Z",
     "iopub.status.idle": "2024-04-28T17:48:23.496499Z",
     "shell.execute_reply": "2024-04-28T17:48:23.495420Z"
    },
    "papermill": {
     "duration": 0.028282,
     "end_time": "2024-04-28T17:48:23.499285",
     "exception": false,
     "start_time": "2024-04-28T17:48:23.471003",
     "status": "completed"
    },
    "tags": []
   },
   "outputs": [
    {
     "name": "stdout",
     "output_type": "stream",
     "text": [
      "Unique values in 'Condition2' column in training data: ['Norm' 'PosA' 'Feedr' 'PosN' 'Artery' 'RRAe']\n",
      "\n",
      "Unique values in 'Condition2' column in validation data: ['Norm' 'RRAn' 'RRNn' 'Artery' 'Feedr' 'PosN']\n"
     ]
    }
   ],
   "source": [
    "print(\"Unique values in 'Condition2' column in training data:\", X_train['Condition2'].unique())\n",
    "print(\"\\nUnique values in 'Condition2' column in validation data:\", X_valid['Condition2'].unique())"
   ]
  },
  {
   "cell_type": "code",
   "execution_count": 11,
   "id": "1f259654",
   "metadata": {
    "execution": {
     "iopub.execute_input": "2024-04-28T17:48:23.676123Z",
     "iopub.status.busy": "2024-04-28T17:48:23.675386Z",
     "iopub.status.idle": "2024-04-28T17:48:23.692730Z",
     "shell.execute_reply": "2024-04-28T17:48:23.691723Z"
    },
    "papermill": {
     "duration": 0.036827,
     "end_time": "2024-04-28T17:48:23.695521",
     "exception": false,
     "start_time": "2024-04-28T17:48:23.658694",
     "status": "completed"
    },
    "tags": []
   },
   "outputs": [
    {
     "name": "stdout",
     "output_type": "stream",
     "text": [
      "Categorical columns that will be ordinal encoded: ['MSZoning', 'Street', 'LotShape', 'LandContour', 'Utilities', 'LotConfig', 'LandSlope', 'Neighborhood', 'Condition1', 'BldgType', 'HouseStyle', 'RoofStyle', 'Exterior1st', 'Exterior2nd', 'ExterQual', 'ExterCond', 'Foundation', 'Heating', 'HeatingQC', 'CentralAir', 'KitchenQual', 'PavedDrive', 'SaleType', 'SaleCondition']\n",
      "\n",
      "Categorical columns that will be dropped from the dataset: ['Functional', 'Condition2', 'RoofMatl']\n"
     ]
    }
   ],
   "source": [
    "# Categorical columns in the training data\n",
    "object_cols = [col for col in X_train.columns if X_train[col].dtype == \"object\"]\n",
    "\n",
    "# Columns that can be safely ordinal encoded\n",
    "good_label_cols = [col for col in object_cols if \n",
    "                   set(X_valid[col]).issubset(set(X_train[col]))]\n",
    "        \n",
    "# Problematic columns that will be dropped from the dataset\n",
    "bad_label_cols = list(set(object_cols)-set(good_label_cols))\n",
    "        \n",
    "print('Categorical columns that will be ordinal encoded:', good_label_cols)\n",
    "print('\\nCategorical columns that will be dropped from the dataset:', bad_label_cols)"
   ]
  },
  {
   "cell_type": "code",
   "execution_count": 12,
   "id": "da819641",
   "metadata": {
    "execution": {
     "iopub.execute_input": "2024-04-28T17:48:23.760498Z",
     "iopub.status.busy": "2024-04-28T17:48:23.760093Z",
     "iopub.status.idle": "2024-04-28T17:48:23.812061Z",
     "shell.execute_reply": "2024-04-28T17:48:23.810960Z"
    },
    "papermill": {
     "duration": 0.071155,
     "end_time": "2024-04-28T17:48:23.814508",
     "exception": false,
     "start_time": "2024-04-28T17:48:23.743353",
     "status": "completed"
    },
    "tags": []
   },
   "outputs": [],
   "source": [
    "from sklearn.preprocessing import OrdinalEncoder\n",
    "\n",
    "# Drop categorical columns that will not be encoded\n",
    "label_X_train = X_train.drop(bad_label_cols, axis=1)\n",
    "label_X_valid = X_valid.drop(bad_label_cols, axis=1)\n",
    "\n",
    "# Apply ordinal encoder \n",
    "ordinal_encoder = OrdinalEncoder()\n",
    "label_X_train[good_label_cols] = ordinal_encoder.fit_transform(X_train[good_label_cols])\n",
    "label_X_valid[good_label_cols] = ordinal_encoder.transform(X_valid[good_label_cols])\n"
   ]
  },
  {
   "cell_type": "markdown",
   "id": "e16381bf",
   "metadata": {
    "papermill": {
     "duration": 0.015745,
     "end_time": "2024-04-28T17:48:23.890402",
     "exception": false,
     "start_time": "2024-04-28T17:48:23.874657",
     "status": "completed"
    },
    "tags": []
   },
   "source": [
    "Run the next code cell to get the MAE for this approach."
   ]
  },
  {
   "cell_type": "code",
   "execution_count": 13,
   "id": "a581a4a0",
   "metadata": {
    "execution": {
     "iopub.execute_input": "2024-04-28T17:48:23.924382Z",
     "iopub.status.busy": "2024-04-28T17:48:23.923945Z",
     "iopub.status.idle": "2024-04-28T17:48:25.628856Z",
     "shell.execute_reply": "2024-04-28T17:48:25.627410Z"
    },
    "papermill": {
     "duration": 1.724859,
     "end_time": "2024-04-28T17:48:25.631369",
     "exception": false,
     "start_time": "2024-04-28T17:48:23.906510",
     "status": "completed"
    },
    "tags": []
   },
   "outputs": [
    {
     "name": "stdout",
     "output_type": "stream",
     "text": [
      "MAE from Approach 2 (Ordinal Encoding):\n",
      "17098.01649543379\n"
     ]
    }
   ],
   "source": [
    "print(\"MAE from Approach 2 (Ordinal Encoding):\") \n",
    "print(score_dataset(label_X_train, label_X_valid, y_train, y_valid))"
   ]
  },
  {
   "cell_type": "markdown",
   "id": "b6504f39",
   "metadata": {
    "papermill": {
     "duration": 0.016125,
     "end_time": "2024-04-28T17:48:25.722767",
     "exception": false,
     "start_time": "2024-04-28T17:48:25.706642",
     "status": "completed"
    },
    "tags": []
   },
   "source": [
    "So far, you've tried two different approaches to dealing with categorical variables.  And, you've seen that encoding categorical data yields better results than removing columns from the dataset.\n",
    "\n",
    "Soon, you'll try one-hot encoding.  Before then, there's one additional topic we need to cover.  Begin by running the next code cell without changes.  "
   ]
  },
  {
   "cell_type": "code",
   "execution_count": 14,
   "id": "5a31e162",
   "metadata": {
    "execution": {
     "iopub.execute_input": "2024-04-28T17:48:25.757152Z",
     "iopub.status.busy": "2024-04-28T17:48:25.756748Z",
     "iopub.status.idle": "2024-04-28T17:48:25.772873Z",
     "shell.execute_reply": "2024-04-28T17:48:25.771554Z"
    },
    "papermill": {
     "duration": 0.036375,
     "end_time": "2024-04-28T17:48:25.775332",
     "exception": false,
     "start_time": "2024-04-28T17:48:25.738957",
     "status": "completed"
    },
    "tags": []
   },
   "outputs": [
    {
     "data": {
      "text/plain": [
       "[('Street', 2),\n",
       " ('Utilities', 2),\n",
       " ('CentralAir', 2),\n",
       " ('LandSlope', 3),\n",
       " ('PavedDrive', 3),\n",
       " ('LotShape', 4),\n",
       " ('LandContour', 4),\n",
       " ('ExterQual', 4),\n",
       " ('KitchenQual', 4),\n",
       " ('MSZoning', 5),\n",
       " ('LotConfig', 5),\n",
       " ('BldgType', 5),\n",
       " ('ExterCond', 5),\n",
       " ('HeatingQC', 5),\n",
       " ('Condition2', 6),\n",
       " ('RoofStyle', 6),\n",
       " ('Foundation', 6),\n",
       " ('Heating', 6),\n",
       " ('Functional', 6),\n",
       " ('SaleCondition', 6),\n",
       " ('RoofMatl', 7),\n",
       " ('HouseStyle', 8),\n",
       " ('Condition1', 9),\n",
       " ('SaleType', 9),\n",
       " ('Exterior1st', 15),\n",
       " ('Exterior2nd', 16),\n",
       " ('Neighborhood', 25)]"
      ]
     },
     "execution_count": 14,
     "metadata": {},
     "output_type": "execute_result"
    }
   ],
   "source": [
    "# Get number of unique entries in each column with categorical data\n",
    "object_nunique = list(map(lambda col: X_train[col].nunique(), object_cols))\n",
    "d = dict(zip(object_cols, object_nunique))\n",
    "\n",
    "# Print number of unique entries by column, in ascending order\n",
    "sorted(d.items(), key=lambda x: x[1])"
   ]
  },
  {
   "cell_type": "code",
   "execution_count": 15,
   "id": "a9d58fd3",
   "metadata": {
    "execution": {
     "iopub.execute_input": "2024-04-28T17:48:25.843223Z",
     "iopub.status.busy": "2024-04-28T17:48:25.842773Z",
     "iopub.status.idle": "2024-04-28T17:48:25.852865Z",
     "shell.execute_reply": "2024-04-28T17:48:25.851781Z"
    },
    "papermill": {
     "duration": 0.030662,
     "end_time": "2024-04-28T17:48:25.855439",
     "exception": false,
     "start_time": "2024-04-28T17:48:25.824777",
     "status": "completed"
    },
    "tags": []
   },
   "outputs": [],
   "source": [
    "# Fill in the line below: How many categorical variables in the training data\n",
    "# have cardinality greater than 10?\n",
    "high_cardinality_numcols = len([col for col in d if d[col] > 10])\n",
    "\n",
    "# Fill in the line below: How many columns are needed to one-hot encode the \n",
    "# 'Neighborhood' variable in the training data?\n",
    "num_cols_neighborhood = d[\"Neighborhood\"]\n"
   ]
  },
  {
   "cell_type": "code",
   "execution_count": 16,
   "id": "837df62b",
   "metadata": {
    "execution": {
     "iopub.execute_input": "2024-04-28T17:48:25.968369Z",
     "iopub.status.busy": "2024-04-28T17:48:25.967940Z",
     "iopub.status.idle": "2024-04-28T17:48:25.977587Z",
     "shell.execute_reply": "2024-04-28T17:48:25.976528Z"
    },
    "papermill": {
     "duration": 0.030367,
     "end_time": "2024-04-28T17:48:25.979955",
     "exception": false,
     "start_time": "2024-04-28T17:48:25.949588",
     "status": "completed"
    },
    "tags": []
   },
   "outputs": [],
   "source": [
    "# Fill in the line below: How many entries are added to the dataset by \n",
    "# replacing the column with a one-hot encoding?\n",
    "OH_entries_added = 1e4*100 - 1e4\n",
    "\n",
    "# Fill in the line below: How many entries are added to the dataset by\n",
    "# replacing the column with an ordinal encoding?\n",
    "label_entries_added = 0\n"
   ]
  },
  {
   "cell_type": "code",
   "execution_count": 17,
   "id": "52516550",
   "metadata": {
    "execution": {
     "iopub.execute_input": "2024-04-28T17:48:26.101863Z",
     "iopub.status.busy": "2024-04-28T17:48:26.101428Z",
     "iopub.status.idle": "2024-04-28T17:48:26.114834Z",
     "shell.execute_reply": "2024-04-28T17:48:26.113502Z"
    },
    "papermill": {
     "duration": 0.034872,
     "end_time": "2024-04-28T17:48:26.117369",
     "exception": false,
     "start_time": "2024-04-28T17:48:26.082497",
     "status": "completed"
    },
    "tags": []
   },
   "outputs": [
    {
     "name": "stdout",
     "output_type": "stream",
     "text": [
      "Categorical columns that will be one-hot encoded: ['MSZoning', 'Street', 'LotShape', 'LandContour', 'Utilities', 'LotConfig', 'LandSlope', 'Condition1', 'Condition2', 'BldgType', 'HouseStyle', 'RoofStyle', 'RoofMatl', 'ExterQual', 'ExterCond', 'Foundation', 'Heating', 'HeatingQC', 'CentralAir', 'KitchenQual', 'Functional', 'PavedDrive', 'SaleType', 'SaleCondition']\n",
      "\n",
      "Categorical columns that will be dropped from the dataset: ['Exterior2nd', 'Neighborhood', 'Exterior1st']\n"
     ]
    }
   ],
   "source": [
    "# Columns that will be one-hot encoded\n",
    "low_cardinality_cols = [col for col in object_cols if X_train[col].nunique() < 10]\n",
    "\n",
    "# Columns that will be dropped from the dataset\n",
    "high_cardinality_cols = list(set(object_cols)-set(low_cardinality_cols))\n",
    "\n",
    "print('Categorical columns that will be one-hot encoded:', low_cardinality_cols)\n",
    "print('\\nCategorical columns that will be dropped from the dataset:', high_cardinality_cols)"
   ]
  },
  {
   "cell_type": "code",
   "execution_count": 19,
   "id": "03bd55ef",
   "metadata": {
    "execution": {
     "iopub.execute_input": "2024-04-28T17:48:26.191755Z",
     "iopub.status.busy": "2024-04-28T17:48:26.191308Z",
     "iopub.status.idle": "2024-04-28T17:48:26.245516Z",
     "shell.execute_reply": "2024-04-28T17:48:26.244410Z"
    },
    "papermill": {
     "duration": 0.076693,
     "end_time": "2024-04-28T17:48:26.248105",
     "exception": false,
     "start_time": "2024-04-28T17:48:26.171412",
     "status": "completed"
    },
    "tags": []
   },
   "outputs": [],
   "source": [
    "from sklearn.preprocessing import OneHotEncoder\n",
    "\n",
    "# Use as many lines of code as you need!\n",
    "OH_encoding = OneHotEncoder(handle_unknown='ignore', sparse=False)\n",
    "\n",
    "# Apply one-hot encoder to each column with categorical data\n",
    "OH_cols_train = pd.DataFrame(OH_encoding.fit_transform(X_train[low_cardinality_cols]))\n",
    "OH_cols_valid = pd.DataFrame(OH_encoding.transform(X_valid[low_cardinality_cols]))\n",
    "\n",
    "# One-hot encoding removed index; put it back\n",
    "OH_cols_train.index = X_train.index\n",
    "OH_cols_valid.index = X_valid.index\n",
    "\n",
    "# Remove categorical columns (will replace with one-hot encoding)\n",
    "num_X_train = X_train.drop(object_cols, axis=1)\n",
    "num_X_valid = X_valid.drop(object_cols, axis=1)\n",
    "\n",
    "# Add one-hot encoded columns to numerical features\n",
    "OH_X_train = pd.concat([num_X_train, OH_cols_train], axis=1)\n",
    "OH_X_valid = pd.concat([num_X_valid, OH_cols_valid], axis=1)\n",
    "\n",
    "# Fill in the line below: How many columns are in the training dataset after one-hot encoding?\n",
    "OH_X_train.columns = OH_X_train.columns.astype(str)\n",
    "OH_X_valid.columns = OH_X_valid.columns.astype(str)"
   ]
  },
  {
   "cell_type": "code",
   "execution_count": 20,
   "id": "829d5326",
   "metadata": {
    "execution": {
     "iopub.execute_input": "2024-04-28T17:48:26.367976Z",
     "iopub.status.busy": "2024-04-28T17:48:26.367557Z",
     "iopub.status.idle": "2024-04-28T17:48:28.437048Z",
     "shell.execute_reply": "2024-04-28T17:48:28.435512Z"
    },
    "papermill": {
     "duration": 2.091951,
     "end_time": "2024-04-28T17:48:28.439756",
     "exception": false,
     "start_time": "2024-04-28T17:48:26.347805",
     "status": "completed"
    },
    "tags": []
   },
   "outputs": [
    {
     "name": "stdout",
     "output_type": "stream",
     "text": [
      "MAE from Approach 3 (One-Hot Encoding):\n",
      "17525.345719178084\n"
     ]
    }
   ],
   "source": [
    "print(\"MAE from Approach 3 (One-Hot Encoding):\") \n",
    "print(score_dataset(OH_X_train, OH_X_valid, y_train, y_valid))"
   ]
  },
  {
   "cell_type": "code",
   "execution_count": 21,
   "id": "4ab98f20",
   "metadata": {
    "execution": {
     "iopub.execute_input": "2024-04-28T17:48:28.515134Z",
     "iopub.status.busy": "2024-04-28T17:48:28.514723Z",
     "iopub.status.idle": "2024-04-28T17:48:28.545660Z",
     "shell.execute_reply": "2024-04-28T17:48:28.544517Z"
    },
    "papermill": {
     "duration": 0.053258,
     "end_time": "2024-04-28T17:48:28.548136",
     "exception": false,
     "start_time": "2024-04-28T17:48:28.494878",
     "status": "completed"
    },
    "tags": []
   },
   "outputs": [],
   "source": [
    "# apply One-Hot Encoding on the test data\n",
    "OH_X_test = pd.DataFrame(OH_encoding.transform(X_test[low_cardinality_cols]))\n",
    "OH_X_test.index = X_test.index\n",
    "\n",
    "# Remove categorical columns (will replace with one-hot encoding)\n",
    "num_X_test = X_test.drop(object_cols, axis=1)\n",
    "\n",
    "# Add one-hot encoded columns to numerical features\n",
    "OH_X_test = pd.concat([num_X_test, OH_X_test], axis=1)\n",
    "\n",
    "# Ensure the order of columns in the test data is the same as in the training data\n",
    "OH_X_test.columns = OH_X_test.columns.astype(str)\n"
   ]
  },
  {
   "cell_type": "code",
   "execution_count": 22,
   "id": "ee445c6d",
   "metadata": {
    "execution": {
     "iopub.execute_input": "2024-04-28T17:48:28.586359Z",
     "iopub.status.busy": "2024-04-28T17:48:28.585899Z",
     "iopub.status.idle": "2024-04-28T17:48:28.647907Z",
     "shell.execute_reply": "2024-04-28T17:48:28.646413Z"
    },
    "papermill": {
     "duration": 0.084417,
     "end_time": "2024-04-28T17:48:28.650792",
     "exception": false,
     "start_time": "2024-04-28T17:48:28.566375",
     "status": "completed"
    },
    "tags": []
   },
   "outputs": [],
   "source": [
    "OH_X_test.fillna(OH_X_test.mean(), inplace=True)"
   ]
  },
  {
   "cell_type": "code",
   "execution_count": 23,
   "id": "d6260ad1",
   "metadata": {
    "execution": {
     "iopub.execute_input": "2024-04-28T17:48:28.688855Z",
     "iopub.status.busy": "2024-04-28T17:48:28.688439Z",
     "iopub.status.idle": "2024-04-28T17:48:30.777317Z",
     "shell.execute_reply": "2024-04-28T17:48:30.776360Z"
    },
    "papermill": {
     "duration": 2.111042,
     "end_time": "2024-04-28T17:48:30.780081",
     "exception": false,
     "start_time": "2024-04-28T17:48:28.669039",
     "status": "completed"
    },
    "tags": []
   },
   "outputs": [],
   "source": [
    "# Define and fit model\n",
    "model = RandomForestRegressor(n_estimators=100, random_state=0)\n",
    "model.fit(OH_X_train, y_train)\n",
    "\n",
    "# Get validation predictions and MAE\n",
    "predictions = model.predict(OH_X_test)"
   ]
  },
  {
   "cell_type": "code",
   "execution_count": 24,
   "id": "0b59d01b",
   "metadata": {
    "execution": {
     "iopub.execute_input": "2024-04-28T17:48:30.818633Z",
     "iopub.status.busy": "2024-04-28T17:48:30.818202Z",
     "iopub.status.idle": "2024-04-28T17:48:30.831247Z",
     "shell.execute_reply": "2024-04-28T17:48:30.829946Z"
    },
    "papermill": {
     "duration": 0.03516,
     "end_time": "2024-04-28T17:48:30.833996",
     "exception": false,
     "start_time": "2024-04-28T17:48:30.798836",
     "status": "completed"
    },
    "tags": []
   },
   "outputs": [],
   "source": [
    "# Save test predictions to file\n",
    "output = pd.DataFrame({'Id': X_test.index,\n",
    "                       'SalePrice': predictions})\n",
    "output.to_csv('submission.csv', index=False)"
   ]
  }
 ],
 "metadata": {
  "kaggle": {
   "accelerator": "none",
   "dataSources": [
    {
     "databundleVersionId": 111096,
     "sourceId": 10211,
     "sourceType": "competition"
    }
   ],
   "isGpuEnabled": false,
   "isInternetEnabled": false,
   "language": "python",
   "sourceType": "notebook"
  },
  "kernelspec": {
   "display_name": "Python 3",
   "language": "python",
   "name": "python3"
  },
  "language_info": {
   "codemirror_mode": {
    "name": "ipython",
    "version": 3
   },
   "file_extension": ".py",
   "mimetype": "text/x-python",
   "name": "python",
   "nbconvert_exporter": "python",
   "pygments_lexer": "ipython3",
   "version": "3.10.11"
  },
  "papermill": {
   "default_parameters": {},
   "duration": 15.980866,
   "end_time": "2024-04-28T17:48:31.546938",
   "environment_variables": {},
   "exception": null,
   "input_path": "__notebook__.ipynb",
   "output_path": "__notebook__.ipynb",
   "parameters": {},
   "start_time": "2024-04-28T17:48:15.566072",
   "version": "2.5.0"
  }
 },
 "nbformat": 4,
 "nbformat_minor": 5
}
